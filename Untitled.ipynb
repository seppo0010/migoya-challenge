{
 "cells": [
  {
   "cell_type": "markdown",
   "id": "daf1efa5",
   "metadata": {},
   "source": [
    "# Probabilidades de que haya una publicidad de Globant durante un gol de Argentina\n",
    "\n",
    "La consigna: \n",
    "\n",
    "> A ver si algún cerebro matemático me ayuda a calcular las probabilidades de que suceda este gol en este preciso instante, increíble!! (nuestro logo está 2:30 minutos por partido) Al que primero lo resuelva y me muestre cómo lo calculó, se va a ver octavos\n",
    "\n",
    "Tenemos que el logo está 150 segundos por partido. Los partidos duran 90 minutos más descuento.\n",
    "\n",
    "Asumimos que el gol ocurre en un instante (no los momentos anteriores ni posteriores).\n",
    "\n",
    "Por otro lado, la consigna dice *este* gol en *este* instante. Las probabilidades puntuales en funciones continuas son por definición 0 antes del suceso y 1 después de mismo. Interpretemos que dice la probabilidad de que ocurra _algún_ gol de Argentina en _algún_ momento del partido. Si Argentina estaba perdiendo 7-0, el gol probablemente no hubiera sido muy significativo, como el de Brasil a Alemania en 2014.\n",
    "\n",
    "Todos los cálculos los haremos con información disponible antes de que empiece el partido.\n",
    "\n",
    "Asumimos que los eventos de mostrar la publicidad y anotar un gol son independientes. La publicidad no le da superpoderes a Messi."
   ]
  },
  {
   "cell_type": "markdown",
   "id": "f6931576",
   "metadata": {},
   "source": [
    "## Cuántos goles va a meter Argentina\n",
    "\n",
    "Para esto veamos cada cuántos goles mete Argentina por partido, y cuántos recibe Polonia (para ver la fortaleza de la defensa). Limitemosnos a los partidos de 2022 de ambos equipos.\n",
    "\n",
    "Argentina:\n",
    "```\n",
    "Chile  \t1–2\t Argentina\n",
    "Argentina  \t1–0\t Colombia\n",
    "Argentina  \t3–0\t Venezuela\n",
    "Ecuador  \t1–1\t Argentina\n",
    "Italy  \t0–3\t Argentina\n",
    "Argentina  \t5–0\t Estonia \n",
    "Argentina  \t3–0\t Honduras\n",
    "Jamaica  \t0–3\t Argentina\n",
    "United Arab Emirates  \t0–5\t Argentina \n",
    "Argentina  \t1–2\t Saudi Arabia\n",
    "Argentina  \t2–0\t Mexico\n",
    "```\n",
    "\n",
    "Total: +29 goles en 11 partidos.\n",
    "\n",
    "Polonia:\n",
    "```\n",
    "March\n",
    "Scotland  \t1–1\t Poland \t\n",
    "Poland  \t2–0\t Sweden\n",
    "Poland  \t2–1\t Wales\n",
    "Belgium  \t6–1\t Poland \n",
    "Netherlands  \t2–2\t Poland\n",
    "Poland  \t0–1\t Belgium \n",
    "Poland  \t0–2\t Netherlands\n",
    "Wales  \t0–1\t Poland \n",
    "Poland  \t1–0\t Chile \t\n",
    "Mexico  \t0–0\t Poland \n",
    "Poland  \t2–0\t Saudi Arabia \t\n",
    "```\n",
    "\n",
    "Total: -13 goles en 11 partidos.\n",
    "\n",
    "Una estimación un poco burda puede hacerse promediando la cantidad de goles por partidos recibidos por Polonia y los efectuados por Argentina: `(29+13)/2/11=1,91`.\n",
    "\n",
    "Subjetivamente, Argentina necesitaba ganar el partido y Polonia, aún perdiendo, tenía chances de clasificar, por lo que arbitrariamente voy a elevar el número un 10% a `2,10`."
   ]
  },
  {
   "cell_type": "markdown",
   "id": "e0187851",
   "metadata": {},
   "source": [
    "## Probabilidad puntual de la publicidad de Globant\n",
    "\n",
    "Dijimos que tiene 150 segundos por partidos, y los partidos duran 90 minutos. Este Mundial está dando mucho tiempo de descuento, por lo que vale la pena considerarlo. Sin embargo, no encontré una buena fuente para calcular su promedio. A ojo agreguemos unos 10 minutos por partido (¿3 en el primero tiempo, 7 en el segundo?).\n",
    "\n",
    "Entonces la probabilidad puntual de que esté la publicidad en un momento determinado es `2,5/100=2,5%`."
   ]
  },
  {
   "cell_type": "markdown",
   "id": "9ac3854d",
   "metadata": {},
   "source": [
    "# Cálculos\n",
    "\n",
    "Usemos la [probabilidad de Poisson](https://en.wikipedia.org/wiki/Poisson_distribution) para determinar la probabilidad de meter 1, 2, 3, 4... goles.\n",
    "\n",
    "Dada la cantidad de goles, con la [probabilidad binomial](https://en.wikipedia.org/wiki/Binomial_distribution) veamos si en al menos uno de ellos estuvo la publicidad."
   ]
  },
  {
   "cell_type": "code",
   "execution_count": 58,
   "id": "611a0d8b",
   "metadata": {},
   "outputs": [
    {
     "name": "stdout",
     "output_type": "stream",
     "text": [
      "Probabilidad de meter exactamente 0 gol(es): 0.1224564282529819\n",
      "Probabilidad de meter exactamente 1 gol(es): 0.257158499331262\n",
      "Probabilidad de meter exactamente 2 gol(es): 0.2700164242978251\n",
      "Probabilidad de meter exactamente 3 gol(es): 0.18901149700847755\n",
      "Probabilidad de meter exactamente 4 gol(es): 0.09923103592945072\n",
      "Probabilidad de meter exactamente 5 gol(es): 0.041677035090369324\n",
      "Probabilidad de meter exactamente 6 gol(es): 0.014586962281629255\n",
      "Probabilidad de meter exactamente 7 gol(es): 0.004376088684488777\n",
      "Probabilidad de meter exactamente 8 gol(es): 0.0011487232796783039\n",
      "Probabilidad de meter exactamente 9 gol(es): 0.00026803543192493795\n",
      "Probabilidad total: 0.05112988321453311\n"
     ]
    }
   ],
   "source": [
    "import scipy\n",
    "total = 0.0\n",
    "for g in range(0, 100):\n",
    "    prob = scipy.stats.poisson.pmf(g, 2.1)\n",
    "    if prob < 0.0001: break\n",
    "    print(f'Probabilidad de meter exactamente {g} gol(es): {prob}')\n",
    "    total += prob * (1 - scipy.stats.binom.pmf(0, g, 0.025))\n",
    "print(f'Probabilidad total: {total}')"
   ]
  }
 ],
 "metadata": {
  "kernelspec": {
   "display_name": "Python 3 (ipykernel)",
   "language": "python",
   "name": "python3"
  },
  "language_info": {
   "codemirror_mode": {
    "name": "ipython",
    "version": 3
   },
   "file_extension": ".py",
   "mimetype": "text/x-python",
   "name": "python",
   "nbconvert_exporter": "python",
   "pygments_lexer": "ipython3",
   "version": "3.9.13"
  }
 },
 "nbformat": 4,
 "nbformat_minor": 5
}
